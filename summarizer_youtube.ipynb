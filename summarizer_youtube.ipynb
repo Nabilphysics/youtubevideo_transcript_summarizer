{
 "cells": [
  {
   "cell_type": "code",
   "execution_count": 1,
   "id": "93b0a17e",
   "metadata": {},
   "outputs": [],
   "source": [
    "# https://www.github.com/Nabilphysics\n",
    "# https://www.nabilbd.com\n",
    "\n",
    "# !pip install youtube_dl\n",
    "# !pip install transformers\n",
    "#!pip install spacy\n",
    "#!python -m spacy download en_core_web_lg\n",
    "\n",
    "import youtube_dl\n",
    "import os\n",
    "\n",
    "import whisper"
   ]
  },
  {
   "cell_type": "code",
   "execution_count": 13,
   "id": "385cc04f",
   "metadata": {},
   "outputs": [
    {
     "name": "stdout",
     "output_type": "stream",
     "text": [
      "enter url of youtube video:https://www.youtube.com/watch?v=6KUn7AKmC0Y\n",
      "[youtube] 6KUn7AKmC0Y: Downloading webpage\n",
      "[youtube] 6KUn7AKmC0Y: Downloading webpage\n",
      "[download] Destination: youtubeVideo.mp3\n",
      "[download] 100% of 7.61MiB in 02:5956KiB/s ETA 00:00\n",
      "[ffmpeg] Correcting container in \"youtubeVideo.mp3\"\n",
      "Download complete... youtubeVideo.mp3\n"
     ]
    }
   ],
   "source": [
    "\n",
    "\n",
    "def download_ytvid_as_mp3():\n",
    "    video_url = input(\"enter url of youtube video:\")\n",
    "    #https://www.youtube.com/watch?v=6KUn7AKmC0Y\n",
    "    video_info = youtube_dl.YoutubeDL().extract_info(url = video_url,download=False)\n",
    "    # Your file location for Ubuntu\n",
    "    myfile = \"youtubeVideo.mp3\"\n",
    "   # If file exists, delete it.\n",
    "    if os.path.isfile(myfile):\n",
    "     os.remove(myfile)\n",
    "    else:\n",
    "     # If it fails, inform the user.\n",
    "     print(\"Error: %s file not found\" % myfile)\n",
    "    \n",
    "    #filename = f\"{video_info['title']}.mp3\"\n",
    "    filename = f\"{'youtubeVideo'}.mp3\"\n",
    "    options={\n",
    "        'format':'bestaudio/best',\n",
    "        'keepvideo':False,\n",
    "        'outtmpl':filename,\n",
    "    }\n",
    "    with youtube_dl.YoutubeDL(options) as ydl:\n",
    "        ydl.download([video_info['webpage_url']])\n",
    "    print(\"Download complete... {}\".format(filename))\n",
    "download_ytvid_as_mp3()"
   ]
  },
  {
   "cell_type": "code",
   "execution_count": 4,
   "id": "72962205",
   "metadata": {},
   "outputs": [
    {
     "name": "stdout",
     "output_type": "stream",
     "text": [
      " There's a book that sits on my bookshelf that is unlike any other. It invites people to go out and learn about the world in order to better make sense of what was written in it, and in order to prove its own authenticity beyond a shadow of a doubt. In fact, the book encourages its readers to read, learn, ponder, and question things, so much so that the first world revealed from the book was read. But it doesn't stop there. The book goes on to challenge its readers, especially the scientists and scholars among them, with statements such as, we will show them our signs in the universe and in their own selves, until it becomes manifest to them that this is the truth. And these similes we put forward for mankind, but none will understand them except those who have knowledge. The author of this book gives us the total freedom to either believe or disbelieve in what he wrote, but at the same time the author tells us that he also has the freedom to determine our fate after death, with either eternal happiness in paradise or an eternal painful punishment in hell. There is no third option. The following is just one quote from the book's many profound passages, given as a quick and simple example to help you understand what I mean. The author swears that indeed what is written inside this book is very serious and is not a joke, but the amazing part is that the author swears by two phenomena that at the time the book was revealed, 1400 years ago, were completely unknown to man in any way. The quote is as follows, by the sky which has the bounce, by the earth which has the crack. Indeed what is written inside the book is very serious and it's not in jest. Do you know what these two phenomena are? I will tell you. Simply put, when space is stretched out it bounces, while when the earth is stretched out it cracks. Although we can't see a bounce in the sky, in 1916 Einstein's game-changing theory of relativity determined that spatial bodies move in the fabric of space in much the same way as a child bounces on a stretchy trampoline. And although we've always intuitively known that rocks are incredibly strong and can't be stretched apart, in 1789 when Iceland's Silfrifyshá was opened and in 1927 when the first crack in the earth was recorded in the Arizona desert, it was confirmed just how fragile and changeable our earth really is. A book from 1962 entitled Notes on Earthfishes in Southern Arizona by Geraldine Robinson and Dennis Peterson published the information about the cracks in the earth that were first recorded in Arizona. So it was only in 1916 that science learned that the sky, space, has a bounce to it, which is at the heart of Einstein's theory of relativity. And it was only in 1927 that science learned that the earth has cracks. Yet not unsurprisingly, the ancient book that I speak of contains numerous proofs in the form of scientific facts and natural wonders that were only discovered by scientists centuries later. How is this possible? How could a book revealed so long ago, before the advent of basic modern tools and technologies, contain such accurate information about scientific phenomena? There is only one explanation for such a thing. The author of the book is the creator of the universe. The book was written by God himself. Do you know the book that I'm talking of? It's called the Holy Quran and is such an impressive book that it would forever change the course of the world. The Quran was revealed to the Prophet Muhammad over the course of 23 years in the 6th century. It was a miracle back then and remains a miracle to this day. Though the Prophet Muhammad received the revelation and transmitted it to the people, he did not have any part in writing it. In fact, the Prophet Muhammad was illiterate. He never learned to read or write. What makes the Quran so unique is that it contains wisdom and knowledge that never gets outdated. And for a book from the 6th century, that's pretty exceptional. Not only has the Quran stood the test of time and remained accurate, even with all the modern advancements mankind has been able to accomplish with the help of cutting edge technologies, the Quran has, in numerous chapters, challenged anyone who doubts its authenticity to come up with something that can stack up against it. Many disbelievers at the time of the Prophet liked to spread the lie that the Quran was written by the Prophet himself instead of God Almighty. This is how the Quran responded to their false claims. Or do they say he, Prophet Muhammad, has forged it, this Quran? Nay, they believe not. Let them then produce a recitation like it if they are truthful. And if you are in doubt as to what we have revealed from time to time to our servant, then produce a chapter like they're unto and call your witnesses or helpers, if there are any, besides Allah, if your doubts are true. In short, the Quran challenged them, just as it has challenged scholars, intellectuals and scientists for the past 1400 years to refute the messages and declarations contained within it. None have yet been able to meet this challenge, and that's for a good reason. The word of God is foolproof. So join us as we delve into the fascinating pages of the Holy Quran, the miracle that keeps on giving. I think one of the beauties of the book Quran, what makes it so attractive, is that it actually challenges people on a regular throughout the book. I've noticed many different sections of the Quran that says our signs are here or this is a sign. It's like the Quran is saying, OK, this is the word of God. And if you don't believe, just put it to the test. It says to just examine it because there's a sign here for those who have knowledge. So a lot of times it doesn't necessarily explain everything fully like the whole scientific process and everything. It just says these are signs or here's a sign. And in it, this is a sign. And in that, scientific proofs can be discovered or just other things. Other maybe great analogies or life lessons can also be taken from the signs. And that is great. I think that is amazing that it does that. You see, in a sign, there could be so much that can be taken from it. And somebody can maybe get something else from a sign than another person. And then when we talk about it, it's like, oh, wow, I never saw that angle of the Quran before. And then they benefit from it. But, you know, some things are for sure clear cut in it, but others is just as this is a sign like go study, go research. And scientists have found that, hey, this is actually describing certain scientific things. And they may not necessarily say the scientific terms word for word because it's written in Arabic. And the scientists may have spoken English or different language. So there may be different terms, but bottom line is the same fundamental process and the sequence and the the similarities are are there and discovered and continuously are being discovered. So that is, I think, really cool. And it just brings to mind that if someone is trying to prove the Quran, I don't think that's a beneficial way to go and trying to prove it to somebody else. I think the Quran, if it is the word of God, will just prove itself. Period. So when you share the Quran, when you share information in the Quran, that's OK. It's OK if somebody doesn't get it right away because the Quran says that certain things need to be examined and certain things need to be investigated. So if it clicks for you, doesn't necessarily mean it's going to click for somebody else right away because the sign is there. But it doesn't necessarily mean that everything that sign is pointing to is going to be discovered in the exact same way in the exact same time period for everyone..\n"
     ]
    }
   ],
   "source": [
    "model = whisper.load_model(\"medium\")\n",
    "#result = model.transcribe('/home/bioforge/Downloads/Spiritual_Authority_1.mp3')\n",
    "result = model.transcribe('youtubeVideo.mp3')\n",
    "text = result[\"text\"]\n",
    "print(text)"
   ]
  },
  {
   "cell_type": "code",
   "execution_count": 5,
   "id": "900ea85e",
   "metadata": {},
   "outputs": [],
   "source": [
    "#text = result[\"text\"]\n",
    "#res = len(text.split())\n",
    "# total no of words\n",
    "#print (\"The number of words in string are : \" + str(res))\n"
   ]
  },
  {
   "cell_type": "code",
   "execution_count": 6,
   "id": "8d30788f",
   "metadata": {},
   "outputs": [],
   "source": [
    "import spacy\n",
    "from spacy.lang.en.stop_words import STOP_WORDS\n",
    "from string import punctuation\n",
    "from heapq import nlargest\n",
    "\n",
    "#punctuation = punctuation + '\\n'\n",
    "#punctuation\n",
    "\n",
    "def summarize(text, per):\n",
    "    nlp = spacy.load('en_core_web_lg')\n",
    "    doc= nlp(text)\n",
    "    tokens=[token.text for token in doc]\n",
    "    word_frequencies={}\n",
    "    for word in doc:\n",
    "        if word.text.lower() not in list(STOP_WORDS):\n",
    "            if word.text.lower() not in punctuation:\n",
    "                if word.text not in word_frequencies.keys():\n",
    "                    word_frequencies[word.text] = 1\n",
    "                else:\n",
    "                    word_frequencies[word.text] += 1\n",
    "    max_frequency=max(word_frequencies.values())\n",
    "    for word in word_frequencies.keys():\n",
    "        word_frequencies[word]=word_frequencies[word]/max_frequency\n",
    "    sentence_tokens= [sent for sent in doc.sents]\n",
    "    sentence_scores = {}\n",
    "    for sent in sentence_tokens:\n",
    "        for word in sent:\n",
    "            if word.text.lower() in word_frequencies.keys():\n",
    "                if sent not in sentence_scores.keys():                            \n",
    "                    sentence_scores[sent]=word_frequencies[word.text.lower()]\n",
    "                else:\n",
    "                    sentence_scores[sent]+=word_frequencies[word.text.lower()]\n",
    "    select_length=int(len(sentence_tokens)*per)\n",
    "    summary=nlargest(select_length, sentence_scores,key=sentence_scores.get)\n",
    "    final_summary=[word.text for word in summary]\n",
    "    summary=''.join(final_summary)\n",
    "    return summary "
   ]
  },
  {
   "cell_type": "code",
   "execution_count": 7,
   "id": "43d2aa1b",
   "metadata": {
    "scrolled": false
   },
   "outputs": [
    {
     "name": "stdout",
     "output_type": "stream",
     "text": [
      "The author swears that indeed what is written inside this book is very serious and is not a joke, but the amazing part is that the author swears by two phenomena that at the time the book was revealed, 1400 years ago, were completely unknown to man in any way.In fact, the book encourages its readers to read, learn, ponder, and question things, so much so that the first world revealed from the book was read.The author of this book gives us the total freedom to either believe or disbelieve in what he wrote, but at the same time the author tells us that he also has the freedom to determine our fate after death, with either eternal happiness in paradise or an eternal painful punishment in hell.I think one of the beauties of the book Quran, what makes it so attractive, is that it actually challenges people on a regular throughout the book.Yet not unsurprisingly, the ancient book that I speak of contains numerous proofs in the form of scientific facts and natural wonders that were only discovered by scientists centuries later.How could a book revealed so long ago, before the advent of basic modern tools and technologies, contain such accurate information about scientific phenomena?The book goes on to challenge its readers, especially the scientists and scholars among them, with statements such as, we will show them our signs in the universe and in their own selves, until it becomes manifest to them that this is the truth.But it doesn't necessarily mean that everything that sign is pointing to is going to be discovered in the exact same way in the exact same time period for everyone..Not only has the Quran stood the test of time and remained accurate, even with all the modern advancements mankind has been able to accomplish with the help of cutting edge technologies, the Quran has, in numerous chapters, challenged anyone who doubts its authenticity to come up with something that can stack up against it.And if you are in doubt as to what we have revealed from time to time to our servant, then produce a chapter like they're unto and call your witnesses or helpers, if there are any, besides Allah, if your doubts are true.A book from 1962 entitled Notes on Earthfishes in Southern Arizona by Geraldine Robinson and Dennis Peterson published the information about the cracks in the earth that were first recorded in Arizona.\n"
     ]
    }
   ],
   "source": [
    "# extractive summary\n",
    "extractive_summary = summarize(text, 0.15) # 1.0 = 100% so 0.15 = 15%\n",
    "print(extractive_summary)"
   ]
  },
  {
   "cell_type": "code",
   "execution_count": 8,
   "id": "c6085abc",
   "metadata": {},
   "outputs": [],
   "source": [
    "# Abstractive Summary Generation"
   ]
  },
  {
   "cell_type": "code",
   "execution_count": 9,
   "id": "aaab2215",
   "metadata": {},
   "outputs": [],
   "source": [
    "from transformers import PegasusForConditionalGeneration\n",
    "from transformers import PegasusTokenizer\n",
    "from transformers import pipeline\n",
    "\n"
   ]
  },
  {
   "cell_type": "code",
   "execution_count": 10,
   "id": "8e216483",
   "metadata": {},
   "outputs": [],
   "source": [
    "# Pick model\n",
    "model_name = \"google/pegasus-xsum\"\n",
    "\n",
    "# Load pretrained tokenizer\n",
    "pegasus_tokenizer = PegasusTokenizer.from_pretrained(model_name)\n",
    "\n",
    "# Define PEGASUS model\n",
    "pegasus_model = PegasusForConditionalGeneration.from_pretrained(model_name)\n",
    "\n",
    "# Create tokens\n",
    "tokens = pegasus_tokenizer(extractive_summary, truncation=True, padding=\"longest\", return_tensors=\"pt\")\n",
    "\n",
    "# Define summarization pipeline \n",
    "summarizer = pipeline(\n",
    "    \"summarization\", \n",
    "    model=model_name, \n",
    "    tokenizer=pegasus_tokenizer, \n",
    "    framework=\"pt\"\n",
    ")"
   ]
  },
  {
   "cell_type": "code",
   "execution_count": 11,
   "id": "7a85bace",
   "metadata": {},
   "outputs": [
    {
     "data": {
      "text/plain": [
       "'One of the most famous books that I have ever read is the Quran, the holy book of Islam.'"
      ]
     },
     "execution_count": 11,
     "metadata": {},
     "output_type": "execute_result"
    }
   ],
   "source": [
    "# Create summary \n",
    "summary = summarizer(extractive_summary, min_length=20, max_length=150)\n",
    "summary[0][\"summary_text\"]"
   ]
  },
  {
   "cell_type": "code",
   "execution_count": null,
   "id": "b33bdb99",
   "metadata": {},
   "outputs": [],
   "source": []
  }
 ],
 "metadata": {
  "kernelspec": {
   "display_name": "Python 3 (ipykernel)",
   "language": "python",
   "name": "python3"
  },
  "language_info": {
   "codemirror_mode": {
    "name": "ipython",
    "version": 3
   },
   "file_extension": ".py",
   "mimetype": "text/x-python",
   "name": "python",
   "nbconvert_exporter": "python",
   "pygments_lexer": "ipython3",
   "version": "3.10.8"
  }
 },
 "nbformat": 4,
 "nbformat_minor": 5
}
